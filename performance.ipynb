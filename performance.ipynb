{
 "cells": [
  {
   "cell_type": "code",
   "execution_count": 1,
   "metadata": {
    "collapsed": true
   },
   "outputs": [],
   "source": [
    "from __future__ import print_function\n",
    "\n",
    "import numpy as np\n",
    "import pandas as pd"
   ]
  },
  {
   "cell_type": "code",
   "execution_count": 2,
   "metadata": {
    "collapsed": true
   },
   "outputs": [],
   "source": [
    "def create_sharpe_ratio(returns, periods=252):\n",
    "    \"\"\"\n",
    "    Create the Sharpe ratio for the strategy, based on a \n",
    "    benchmark of zero (i.e. no risk-free rate information).\n",
    "\n",
    "    Parameters:\n",
    "    returns - A pandas Series representing period percentage returns.\n",
    "    periods - Daily (252), Hourly (252*6.5), Minutely(252*6.5*60) etc.\n",
    "    \"\"\"\n",
    "    return np.sqrt(periods) * (np.mean(returns)) / np.std(returns)"
   ]
  },
  {
   "cell_type": "code",
   "execution_count": 3,
   "metadata": {
    "collapsed": true
   },
   "outputs": [],
   "source": [
    "def create_drawdowns(pnl):\n",
    "    \"\"\"\n",
    "    Calculate the largest peak-to-trough drawdown of the PnL curve\n",
    "    as well as the duration of the drawdown. Requires that the \n",
    "    pnl_returns is a pandas Series.\n",
    "\n",
    "    Parameters:\n",
    "    pnl - A pandas Series representing period percentage returns.\n",
    "\n",
    "    Returns:\n",
    "    drawdown, duration - Highest peak-to-trough drawdown and duration.\n",
    "    \"\"\"\n",
    "\n",
    "    # Calculate the cumulative returns curve \n",
    "    # and set up the High Water Mark\n",
    "    hwm = [0]\n",
    "\n",
    "    # Create the drawdown and duration series\n",
    "    idx = pnl.index\n",
    "    drawdown = pd.Series(index = idx)\n",
    "    duration = pd.Series(index = idx)\n",
    "\n",
    "    # Loop over the index range\n",
    "    for t in range(1, len(idx)):\n",
    "        hwm.append(max(hwm[t-1], pnl[t]))\n",
    "        drawdown[t]= (hwm[t]-pnl[t])\n",
    "        duration[t]= (0 if drawdown[t] == 0 else duration[t-1]+1)\n",
    "    return drawdown, drawdown.max(), duration.max()"
   ]
  },
  {
   "cell_type": "code",
   "execution_count": null,
   "metadata": {
    "collapsed": true
   },
   "outputs": [],
   "source": []
  }
 ],
 "metadata": {
  "anaconda-cloud": {},
  "kernelspec": {
   "display_name": "Python [default]",
   "language": "python",
   "name": "python3"
  },
  "language_info": {
   "codemirror_mode": {
    "name": "ipython",
    "version": 3
   },
   "file_extension": ".py",
   "mimetype": "text/x-python",
   "name": "python",
   "nbconvert_exporter": "python",
   "pygments_lexer": "ipython3",
   "version": "3.5.2"
  }
 },
 "nbformat": 4,
 "nbformat_minor": 1
}
